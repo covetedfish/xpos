{
 "cells": [
  {
   "cell_type": "code",
   "execution_count": 1,
   "metadata": {},
   "outputs": [],
   "source": [
    "import pandas as pd"
   ]
  },
  {
   "cell_type": "code",
   "execution_count": 7,
   "metadata": {},
   "outputs": [
    {
     "data": {
      "text/plain": [
       "language\n",
       "hy      1785\n",
       "cy       303\n",
       "no     33282\n",
       "orv    13656\n",
       "en     19912\n",
       "       ...  \n",
       "sr      3328\n",
       "hyw      607\n",
       "gd      1225\n",
       "he       187\n",
       "ug      1543\n",
       "Name: size, Length: 74, dtype: int64"
      ]
     },
     "execution_count": 7,
     "metadata": {},
     "output_type": "execute_result"
    }
   ],
   "source": [
    "sizes = pd.read_csv(\"exports/udpos-sizes-train.csv\", index_col=1)[\"size\"]\n",
    "sizes"
   ]
  },
  {
   "cell_type": "code",
   "execution_count": 8,
   "metadata": {},
   "outputs": [
    {
     "data": {
      "text/plain": [
       "language\n",
       "qhe         0\n",
       "cop         4\n",
       "bxr        19\n",
       "olo        19\n",
       "kmr        20\n",
       "        ...  \n",
       "la      48164\n",
       "tr      51551\n",
       "ru      67856\n",
       "cs      96387\n",
       "de     163106\n",
       "Name: size, Length: 74, dtype: int64"
      ]
     },
     "execution_count": 8,
     "metadata": {},
     "output_type": "execute_result"
    }
   ],
   "source": [
    "sizes.sort_values()"
   ]
  },
  {
   "cell_type": "code",
   "execution_count": 9,
   "metadata": {},
   "outputs": [
    {
     "data": {
      "text/plain": [
       "(74, 25, 49)"
      ]
     },
     "execution_count": 9,
     "metadata": {},
     "output_type": "execute_result"
    }
   ],
   "source": [
    "sizes.count(), (sizes > 10_000).sum(), (sizes < 10_000).sum()"
   ]
  }
 ],
 "metadata": {
  "interpreter": {
   "hash": "2280de6b2ecdb622479fb51b868d1a706a1e105407067af22ca9e6cc72e33caf"
  },
  "kernelspec": {
   "display_name": "Python 3.9.7 64-bit ('xling-benchmarks-082a4773': conda)",
   "name": "python3"
  },
  "language_info": {
   "codemirror_mode": {
    "name": "ipython",
    "version": 3
   },
   "file_extension": ".py",
   "mimetype": "text/x-python",
   "name": "python",
   "nbconvert_exporter": "python",
   "pygments_lexer": "ipython3",
   "version": "3.9.7"
  },
  "orig_nbformat": 4
 },
 "nbformat": 4,
 "nbformat_minor": 2
}
